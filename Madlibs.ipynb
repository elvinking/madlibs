{
 "cells": [
  {
   "cell_type": "code",
   "execution_count": 7,
   "id": "50cc27b5",
   "metadata": {
    "scrolled": false
   },
   "outputs": [
    {
     "name": "stdout",
     "output_type": "stream",
     "text": [
      "subscribe to Elvin Ibragimov\n",
      "subscribe to Elvin Ibragimov\n",
      "subscribe to Elvin Ibragimov\n"
     ]
    }
   ],
   "source": [
    "# string concatenation (aka how to put strings together)\n",
    "# suppose we want to create a string that says \"subscribe to _______\"\n",
    "youtuber = \"Elvin Ibragimov\" # some string variable\n",
    "\n",
    "# a few ways to do this\n",
    "print(\"subscribe to \" + youtuber)\n",
    "print(\"subscribe to {}\".format(youtuber))\n",
    "print(f\"subscribe to {youtuber}\")"
   ]
  },
  {
   "cell_type": "code",
   "execution_count": 8,
   "id": "05a314c6",
   "metadata": {},
   "outputs": [
    {
     "name": "stdout",
     "output_type": "stream",
     "text": [
      "Adjective: amazing\n",
      "Verb: skydive\n",
      "Verb: jump\n",
      "Famous person: Superman\n"
     ]
    }
   ],
   "source": [
    "adj = input(\"Adjective: \")\n",
    "verb1 = input(\"Verb: \")\n",
    "verb2 = input(\"Verb: \")\n",
    "famous_person = input(\"Famous person: \")"
   ]
  },
  {
   "cell_type": "code",
   "execution_count": 9,
   "id": "0024e850",
   "metadata": {},
   "outputs": [],
   "source": [
    "madlib = f\"Computer programming is so {adj}! It makes me so excited all the time because I love to {verb1}. Stay hydrated and {verb2} like you are {famous_person}!\""
   ]
  },
  {
   "cell_type": "code",
   "execution_count": 10,
   "id": "adc7deeb",
   "metadata": {},
   "outputs": [
    {
     "name": "stdout",
     "output_type": "stream",
     "text": [
      "Computer programming is so amazing! It makes me so excited all the time because I love to skydive. Stay hydrated and jump like you are Superman!\n"
     ]
    }
   ],
   "source": [
    "print(madlib)"
   ]
  },
  {
   "cell_type": "code",
   "execution_count": null,
   "id": "05f919ad",
   "metadata": {},
   "outputs": [],
   "source": []
  }
 ],
 "metadata": {
  "kernelspec": {
   "display_name": "Python 3 (ipykernel)",
   "language": "python",
   "name": "python3"
  },
  "language_info": {
   "codemirror_mode": {
    "name": "ipython",
    "version": 3
   },
   "file_extension": ".py",
   "mimetype": "text/x-python",
   "name": "python",
   "nbconvert_exporter": "python",
   "pygments_lexer": "ipython3",
   "version": "3.11.5"
  }
 },
 "nbformat": 4,
 "nbformat_minor": 5
}
